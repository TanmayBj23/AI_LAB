{
  "nbformat": 4,
  "nbformat_minor": 0,
  "metadata": {
    "colab": {
      "provenance": [],
      "authorship_tag": "ABX9TyPSEcBFekXVjOAPqyL6uVVS",
      "include_colab_link": true
    },
    "kernelspec": {
      "name": "python3",
      "display_name": "Python 3"
    },
    "language_info": {
      "name": "python"
    }
  },
  "cells": [
    {
      "cell_type": "markdown",
      "metadata": {
        "id": "view-in-github",
        "colab_type": "text"
      },
      "source": [
        "<a href=\"https://colab.research.google.com/github/TanmayBj23/AI_LAB/blob/main/1BM22CS303_Week7_Unification_FOL.ipynb\" target=\"_parent\"><img src=\"https://colab.research.google.com/assets/colab-badge.svg\" alt=\"Open In Colab\"/></a>"
      ]
    },
    {
      "cell_type": "code",
      "execution_count": null,
      "metadata": {
        "colab": {
          "base_uri": "https://localhost:8080/"
        },
        "id": "N9ZrhEd0epdW",
        "outputId": "cb1bc6dc-b7a9-4b37-9b31-14ee3fa80f29"
      },
      "outputs": [
        {
          "output_type": "stream",
          "name": "stdout",
          "text": [
            "{'f(x, y)': 'f(a, b)'}\n",
            "{'p(x, g(y))': 'p(f(a), g(b))'}\n",
            "Unification successful:\n",
            "{'x': 'Riya', ' y': ' Apple'}\n"
          ]
        }
      ],
      "source": [
        "def unify(x, y, subst=None):\n",
        "    if subst is None:\n",
        "        subst = {}\n",
        "    # Step 1: If x and y are the same, return the current substitutions\n",
        "    if x == y:\n",
        "        return subst\n",
        "    # If x is a variable\n",
        "    if is_variable(x):\n",
        "        return unify_var(x, y, subst)\n",
        "    # If y is a variable\n",
        "    if is_variable(y):\n",
        "        return unify_var(y, x, subst)\n",
        "    # If x and y are compound expressions\n",
        "    if is_compound(x) and is_compound(y):\n",
        "        if get_predicate(x) != get_predicate(y):\n",
        "            return \"FAILURE\"\n",
        "        return unify(get_args(x), get_args(y), subst)\n",
        "\n",
        "    # If x and y are lists\n",
        "    if isinstance(x, list) and isinstance(y, list):\n",
        "        if len(x) != len(y):\n",
        "            return \"FAILURE\"\n",
        "        if not x and not y:\n",
        "            return subst\n",
        "        return unify(x[1:], y[1:], unify(x[0], y[0], subst))\n",
        "\n",
        "    # If x and y are constants or cannot be unified\n",
        "    return \"FAILURE\"\n",
        "\n",
        "def unify_var(var, x, subst):\n",
        "    if var in subst:\n",
        "        return unify(subst[var], x, subst)\n",
        "    if x in subst:\n",
        "        return unify(var, subst[x], subst)\n",
        "    if occurs_check(var, x):\n",
        "        return \"FAILURE\"\n",
        "    subst[var] = x\n",
        "    return subst\n",
        "\n",
        "def occurs_check(var, x):\n",
        "    if var == x:\n",
        "        return True\n",
        "    if isinstance(x, list):\n",
        "        return any(occurs_check(var, arg) for arg in x)\n",
        "    return False\n",
        "\n",
        "def is_variable(x):\n",
        "    return isinstance(x, str) and x.islower()  # Variables are lowercase strings\n",
        "\n",
        "def is_compound(x):\n",
        "    return isinstance(x, str) and '(' in x and ')' in x\n",
        "\n",
        "def get_predicate(x):\n",
        "    return x.split('(')[0]\n",
        "\n",
        "def get_args(x):\n",
        "    return x[x.index('(') + 1:x.index(')')].split(',')\n",
        "\n",
        "# Test cases\n",
        "x1 = \"f(x, y)\"\n",
        "x2 = \"f(a, b)\"\n",
        "print(unify(x1, x2))  # Expected: {'x': 'a', 'y': 'b'}\n",
        "\n",
        "x3 = \"p(x, g(y))\"\n",
        "x4 = \"p(f(a), g(b))\"\n",
        "print(unify(x3, x4))  # Expected: {'x': 'f(a)', 'y': 'b'}\n",
        "\n",
        "expression_a = \"Eats(x, Apple)\"\n",
        "expression_b = \"Eats(Riya, y)\"\n",
        "\n",
        "substitution = unify(expression_a, expression_b)\n",
        "\n",
        "# Print the result\n",
        "if substitution == \"FAILURE\":\n",
        "    print(\"Unification failed.\")\n",
        "else:\n",
        "    print(\"Unification successful:\")\n",
        "    print(substitution)"
      ]
    },
    {
      "cell_type": "code",
      "source": [],
      "metadata": {
        "id": "K4dBLI7dgsHv"
      },
      "execution_count": null,
      "outputs": []
    }
  ]
}