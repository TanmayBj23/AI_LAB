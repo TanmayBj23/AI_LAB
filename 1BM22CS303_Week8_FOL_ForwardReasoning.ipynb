{
  "nbformat": 4,
  "nbformat_minor": 0,
  "metadata": {
    "colab": {
      "provenance": [],
      "authorship_tag": "ABX9TyN0b8gTt1KeaXHztyOmH6AQ",
      "include_colab_link": true
    },
    "kernelspec": {
      "name": "python3",
      "display_name": "Python 3"
    },
    "language_info": {
      "name": "python"
    }
  },
  "cells": [
    {
      "cell_type": "markdown",
      "metadata": {
        "id": "view-in-github",
        "colab_type": "text"
      },
      "source": [
        "<a href=\"https://colab.research.google.com/github/TanmayBj23/AI_LAB/blob/main/1BM22CS303_Week8_FOL_ForwardReasoning.ipynb\" target=\"_parent\"><img src=\"https://colab.research.google.com/assets/colab-badge.svg\" alt=\"Open In Colab\"/></a>"
      ]
    },
    {
      "cell_type": "code",
      "execution_count": 4,
      "metadata": {
        "colab": {
          "base_uri": "https://localhost:8080/"
        },
        "id": "ung03fyu25L8",
        "outputId": "3a5fc032-e1f9-46a7-8254-938c7917adf4"
      },
      "outputs": [
        {
          "output_type": "stream",
          "name": "stdout",
          "text": [
            "The query Criminal(Robert) cannot be proved.\n"
          ]
        }
      ],
      "source": [
        "# Define the Knowledge Base (KB)\n",
        "kb = []\n",
        "# Facts\n",
        "kb.append((\"fact\", \"American\", [\"Robert\"]))\n",
        "kb.append((\"fact\", \"Enemy\", [\"A\", \"America\"]))\n",
        "kb.append((\"fact\", \"Missile\", [\"T1\"]))\n",
        "# Rules\n",
        "kb.append((\"rule\", [\"Missile(x)\"], \"Weapon(x)\"))  # All missiles are weapons\n",
        "kb.append((\"rule\", [\"Weapon(x)\", \"Sells(Robert, x, A)\", \"Hostile(A)\"], \"Criminal(Robert)\"))  # Selling weapons to hostiles implies criminality\n",
        "kb.append((\"rule\", [\"Enemy(x, America)\"], \"Hostile(x)\"))  # Enemies of America are hostile\n",
        "kb.append((\"fact\", \"Sells\", [\"Robert\", \"T1\", \"A\"]))  # Robert sells T1 to A\n",
        "\n",
        "# Forward Reasoning Function\n",
        "def forward_reasoning(kb, query):\n",
        "    inferred = set()  # Already inferred facts\n",
        "    while True:\n",
        "        new_inferred = set()\n",
        "        for entry in kb:\n",
        "            if entry[0] == \"fact\":\n",
        "                # Add atomic facts to inferred\n",
        "                fact_name = entry[1]\n",
        "                fact_args = tuple(entry[2])\n",
        "                new_inferred.add((fact_name, fact_args))\n",
        "\n",
        "            elif entry[0] == \"rule\":\n",
        "                # Check if the rule's premise is satisfied\n",
        "                premises = entry[1]\n",
        "                conclusion = entry[2]\n",
        "\n",
        "                # Evaluate premises\n",
        "                premises_satisfied = True\n",
        "                substitutions = {}\n",
        "                for premise in premises:\n",
        "                    satisfied = False\n",
        "                    for fact in inferred:\n",
        "                        fact_name, fact_args = fact\n",
        "                        if match(premise, fact_name, fact_args, substitutions):\n",
        "                            satisfied = True\n",
        "                            break\n",
        "                    if not satisfied:\n",
        "                        premises_satisfied = False\n",
        "                        break\n",
        "\n",
        "                # If all premises are satisfied, infer the conclusion\n",
        "                if premises_satisfied:\n",
        "                    conclusion_name, conclusion_args = parse_predicate(conclusion)\n",
        "                    conclusion_args = [\n",
        "                        substitutions.get(arg, arg) for arg in conclusion_args\n",
        "                    ]\n",
        "                    new_inferred.add((conclusion_name, tuple(conclusion_args)))\n",
        "\n",
        "        # If no new facts are inferred, stop\n",
        "        if not new_inferred.difference(inferred):\n",
        "            break\n",
        "        inferred.update(new_inferred)\n",
        "\n",
        "        # Check if the query is inferred\n",
        "        query_name, query_args = parse_predicate(query)\n",
        "        if (query_name, tuple(query_args)) in inferred:\n",
        "            return True\n",
        "\n",
        "    return False\n",
        "\n",
        "# Helper functions for matching and parsing\n",
        "def match(premise, fact_name, fact_args, substitutions):\n",
        "    premise_name, premise_args = parse_predicate(premise)\n",
        "    if premise_name != fact_name or len(premise_args) != len(fact_args):\n",
        "        return False\n",
        "    for p_arg, f_arg in zip(premise_args, fact_args):\n",
        "        if p_arg.islower():  # Variable\n",
        "            substitutions[p_arg] = f_arg\n",
        "        elif p_arg != f_arg:  # Constant mismatch\n",
        "            return False\n",
        "    return True\n",
        "\n",
        "def parse_predicate(predicate):\n",
        "    name, args = predicate.split(\"(\")\n",
        "    args = args[:-1].split(\",\")  # Remove closing \")\"\n",
        "    return name, args\n",
        "\n",
        "# Query\n",
        "query = \"Criminal(Robert)\"\n",
        "\n",
        "# Check if the query can be proved\n",
        "if forward_reasoning(kb, query):\n",
        "    print(f\"The query {query} can be proved.\")\n",
        "else:\n",
        "    print(f\"The query {query} cannot be proved.\")\n"
      ]
    },
    {
      "cell_type": "code",
      "source": [],
      "metadata": {
        "id": "MMZlyg1u29QV"
      },
      "execution_count": null,
      "outputs": []
    }
  ]
}