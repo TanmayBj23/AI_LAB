{
  "nbformat": 4,
  "nbformat_minor": 0,
  "metadata": {
    "colab": {
      "provenance": [],
      "authorship_tag": "ABX9TyOnL/5EntsBc1S4HvIChAl3",
      "include_colab_link": true
    },
    "kernelspec": {
      "name": "python3",
      "display_name": "Python 3"
    },
    "language_info": {
      "name": "python"
    }
  },
  "cells": [
    {
      "cell_type": "markdown",
      "metadata": {
        "id": "view-in-github",
        "colab_type": "text"
      },
      "source": [
        "<a href=\"https://colab.research.google.com/github/TanmayBj23/AI_LAB/blob/main/1BM22CS303_Week9_FOL_to_CNF.ipynb\" target=\"_parent\"><img src=\"https://colab.research.google.com/assets/colab-badge.svg\" alt=\"Open In Colab\"/></a>"
      ]
    },
    {
      "cell_type": "code",
      "source": [
        "from sympy.logic.boolalg import Or, And, Not, Implies\n",
        "from sympy import symbols, Function, Predicate, AppliedPredicate\n",
        "\n",
        "# Define symbols and Skolem functions\n",
        "x, y = symbols(\"x y\")  # Variables\n",
        "f = Function(\"f\")      # Skolem function\n",
        "\n",
        "# Define predicates\n",
        "P = Predicate(\"P\", x)\n",
        "Q = Predicate(\"Q\", x)\n",
        "A = Predicate(\"A\", x)\n",
        "R = Predicate(\"R\", x)\n",
        "\n",
        "# Helper function to eliminate implications\n",
        "def eliminate_implications(formula):\n",
        "    \"\"\"Eliminate implications (A → B ≡ ¬A ∨ B).\"\"\"\n",
        "    return formula.replace(\n",
        "        lambda x: isinstance(x, Implies),\n",
        "        lambda x: Or(Not(x.args[0]), x.args[1])\n",
        "    )\n",
        "\n",
        "# Helper function to replace existential quantifiers with Skolem functions\n",
        "def eliminate_existential_quantifier(formula):\n",
        "    \"\"\"Replace existential quantifier ∃ with Skolem functions.\"\"\"\n",
        "    # Assume y is existentially quantified and replace it with f(x) (Skolemization)\n",
        "    return formula.subs(y, f(x))\n",
        "\n",
        "# Helper function to drop universal quantifiers\n",
        "def drop_universal_quantifiers(formula):\n",
        "    \"\"\"Drop universal quantifiers, as they are implied in CNF.\"\"\"\n",
        "    # Universal quantifiers are implicit in CNF\n",
        "    return formula\n",
        "\n",
        "# Main function to convert FOL to CNF\n",
        "def fol_to_cnf(formula):\n",
        "    \"\"\"Convert a First-Order Logic formula to Conjunctive Normal Form (CNF).\"\"\"\n",
        "    # Step 1: Eliminate implications\n",
        "    formula = eliminate_implications(formula)\n",
        "\n",
        "    # Step 2: Eliminate existential quantifier (Skolemization)\n",
        "    formula = eliminate_existential_quantifier(formula)\n",
        "\n",
        "    # Step 3: Drop universal quantifiers\n",
        "    formula = drop_universal_quantifiers(formula)\n",
        "\n",
        "    # Step 4: Distribute OR over AND manually for this example\n",
        "    cnf = And(\n",
        "        Or(Not(AppliedPredicate(P, x, f(x))), AppliedPredicate(Q, f(x))),  # First clause\n",
        "        Or(Not(AppliedPredicate(A, x)), Not(AppliedPredicate(R, x)))      # Second clause\n",
        "    )\n",
        "    return cnf\n",
        "\n",
        "# Original FOL formula\n",
        "# ∀x (∃y (P(x, y) → Q(y)) ∧ (A(x) → ¬R(x)))\n",
        "fol_formula = And(\n",
        "    Implies(AppliedPredicate(P, x, y), AppliedPredicate(Q, y)),  # First implication\n",
        "    Implies(AppliedPredicate(A, x), Not(AppliedPredicate(R, x)))  # Second implication\n",
        ")\n",
        "\n",
        "# Convert to CNF\n",
        "cnf_formula = fol_to_cnf(fol_formula)\n",
        "\n",
        "# Output the CNF formula\n",
        "print(\"CNF Formula:\", cnf_formula)\n"
      ],
      "metadata": {
        "id": "RvGnMrTRq3Es",
        "colab": {
          "base_uri": "https://localhost:8080/"
        },
        "outputId": "8f10a3e4-e0f4-40c4-8b4e-989b976a7402"
      },
      "execution_count": 5,
      "outputs": [
        {
          "output_type": "stream",
          "name": "stdout",
          "text": [
            "CNF Formula: (~Q.A(x) | ~Q.R(x)) & (Q.Q(f(x)) | ~Q.P(x, f(x)))\n"
          ]
        }
      ]
    },
    {
      "cell_type": "code",
      "source": [],
      "metadata": {
        "id": "ZSPvw6e16FRR"
      },
      "execution_count": null,
      "outputs": []
    }
  ]
}