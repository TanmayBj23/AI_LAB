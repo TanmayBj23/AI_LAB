{
  "nbformat": 4,
  "nbformat_minor": 0,
  "metadata": {
    "colab": {
      "provenance": [],
      "authorship_tag": "ABX9TyNnYKIkg02fWOGUjUFEGo1P",
      "include_colab_link": true
    },
    "kernelspec": {
      "name": "python3",
      "display_name": "Python 3"
    },
    "language_info": {
      "name": "python"
    }
  },
  "cells": [
    {
      "cell_type": "markdown",
      "metadata": {
        "id": "view-in-github",
        "colab_type": "text"
      },
      "source": [
        "<a href=\"https://colab.research.google.com/github/TanmayBj23/AI_LAB/blob/main/1BM22CS303_Week9_AlphaBetaPruning.ipynb\" target=\"_parent\"><img src=\"https://colab.research.google.com/assets/colab-badge.svg\" alt=\"Open In Colab\"/></a>"
      ]
    },
    {
      "cell_type": "code",
      "execution_count": null,
      "metadata": {
        "colab": {
          "base_uri": "https://localhost:8080/"
        },
        "id": "AzAYH8JUrfkO",
        "outputId": "c22331ad-d87a-4d6e-9e99-84b55bafa90f"
      },
      "outputs": [
        {
          "output_type": "stream",
          "name": "stdout",
          "text": [
            "The optimal value is: 5\n"
          ]
        }
      ],
      "source": [
        "# Alpha-Beta Pruning Implementation\n",
        "\n",
        "def alpha_beta_pruning(depth, node_index, maximizing_player, values, alpha, beta):\n",
        "    # Base case: Leaf node\n",
        "    if depth == 3:  # Assuming depth of 3 for the provided tree\n",
        "        return values[node_index]\n",
        "\n",
        "    if maximizing_player:\n",
        "        max_eval = float('-inf')\n",
        "        for i in range(2):  # Each node has 2 children\n",
        "            eval_value = alpha_beta_pruning(depth + 1, node_index * 2 + i, False, values, alpha, beta)\n",
        "            max_eval = max(max_eval, eval_value)\n",
        "            alpha = max(alpha, eval_value)\n",
        "            # Prune the branch\n",
        "            if beta <= alpha:\n",
        "                break\n",
        "        return max_eval\n",
        "    else:\n",
        "        min_eval = float('inf')\n",
        "        for i in range(2):  # Each node has 2 children\n",
        "            eval_value = alpha_beta_pruning(depth + 1, node_index * 2 + i, True, values, alpha, beta)\n",
        "            min_eval = min(min_eval, eval_value)\n",
        "            beta = min(beta, eval_value)\n",
        "            # Prune the branch\n",
        "            if beta <= alpha:\n",
        "                break\n",
        "        return min_eval\n",
        "\n",
        "\n",
        "# Example Usage\n",
        "if __name__ == \"__main__\":\n",
        "    # Values at the leaf nodes of the game tree\n",
        "    values = [3, 5, 6, 9, 1, 2, 0, -1]\n",
        "    alpha = float('-inf')\n",
        "    beta = float('inf')\n",
        "    result = alpha_beta_pruning(0, 0, True, values, alpha, beta)\n",
        "    print(\"The optimal value is:\", result)\n"
      ]
    },
    {
      "cell_type": "code",
      "source": [],
      "metadata": {
        "id": "Cp4uOAYkrglW"
      },
      "execution_count": null,
      "outputs": []
    }
  ]
}