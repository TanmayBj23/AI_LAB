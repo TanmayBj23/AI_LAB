{
  "nbformat": 4,
  "nbformat_minor": 0,
  "metadata": {
    "colab": {
      "provenance": [],
      "authorship_tag": "ABX9TyOt/zWeFBSf9IgMybrJo2Y4",
      "include_colab_link": true
    },
    "kernelspec": {
      "name": "python3",
      "display_name": "Python 3"
    },
    "language_info": {
      "name": "python"
    }
  },
  "cells": [
    {
      "cell_type": "markdown",
      "metadata": {
        "id": "view-in-github",
        "colab_type": "text"
      },
      "source": [
        "<a href=\"https://colab.research.google.com/github/TanmayBj23/AI_LAB/blob/main/1BM22CS303_Week9_KB_Resolution.ipynb\" target=\"_parent\"><img src=\"https://colab.research.google.com/assets/colab-badge.svg\" alt=\"Open In Colab\"/></a>"
      ]
    },
    {
      "cell_type": "code",
      "execution_count": null,
      "metadata": {
        "colab": {
          "base_uri": "https://localhost:8080/"
        },
        "id": "bn2GYwWD0UxG",
        "outputId": "8fb1fcae-459b-44e8-ad6b-01f0eb5e1eb4"
      },
      "outputs": [
        {
          "output_type": "stream",
          "name": "stdout",
          "text": [
            "Query is true.\n"
          ]
        }
      ],
      "source": [
        "def parse_clause(clause):\n",
        "    \"\"\"\n",
        "    Parse a clause string into a set of literals.\n",
        "    \"\"\"\n",
        "    return set(clause.split(\" ∨ \"))\n",
        "\n",
        "def resolve(clause1, clause2):\n",
        "    \"\"\"\n",
        "    Resolve two clauses if they contain complementary literals.\n",
        "    Returns a new clause or None if they cannot be resolved.\n",
        "    \"\"\"\n",
        "    for literal in clause1:\n",
        "        if literal.startswith(\"¬\") and literal[1:] in clause2:\n",
        "            new_clause = (clause1 - {literal}) | (clause2 - {literal[1:]})\n",
        "            return new_clause\n",
        "        elif not literal.startswith(\"¬\") and f\"¬{literal}\" in clause2:\n",
        "            new_clause = (clause1 - {literal}) | (clause2 - {f\"¬{literal}\"})\n",
        "            return new_clause\n",
        "    return None\n",
        "\n",
        "\n",
        "def resolution(kb, query):\n",
        "    \"\"\"\n",
        "    Perform resolution to prove if the query is true or not.\n",
        "    :param kb: List of clauses in the knowledge base (each clause is a set of literals).\n",
        "    :param query: The query to prove (string).\n",
        "    :return: True if the query is proven, False otherwise.\n",
        "    \"\"\"\n",
        "    # Step 1: Convert KB and query to CNF\n",
        "    clauses = [parse_clause(clause) for clause in kb]\n",
        "    negated_query = {f\"¬{query}\"}\n",
        "    clauses.append(negated_query)\n",
        "\n",
        "    # Step 2: Apply resolution rules\n",
        "    new_clauses = set()\n",
        "    while True:\n",
        "        n = len(clauses)\n",
        "        for i in range(n):\n",
        "            for j in range(i + 1, n):\n",
        "                resolvent = resolve(clauses[i], clauses[j])\n",
        "                if resolvent is not None:\n",
        "                    if not resolvent:  # Empty clause found\n",
        "                        return True\n",
        "                    new_clauses.add(frozenset(resolvent))\n",
        "\n",
        "        # Check if new clauses are added\n",
        "        if not new_clauses.difference(set(map(frozenset, clauses))):\n",
        "            break\n",
        "        clauses.extend(map(set, new_clauses))\n",
        "\n",
        "    return False\n",
        "\n",
        "\n",
        "if __name__ == \"__main__\":\n",
        "    # Example Knowledge Base (KB)\n",
        "    kb = [\n",
        "        \"P ∨ Q\",\n",
        "        \"¬Q ∨ R\",\n",
        "        \"¬P ∨ S\",\n",
        "        \"R ∨ ¬S\"\n",
        "    ]\n",
        "    query = \"R\"\n",
        "\n",
        "    # Prove the query\n",
        "    if resolution(kb, query):\n",
        "        print(\"Query is true.\")\n",
        "    else:\n",
        "        print(\"Query cannot be proven.\")\n"
      ]
    },
    {
      "cell_type": "code",
      "source": [],
      "metadata": {
        "id": "_TzfWe3g0YMt"
      },
      "execution_count": null,
      "outputs": []
    }
  ]
}