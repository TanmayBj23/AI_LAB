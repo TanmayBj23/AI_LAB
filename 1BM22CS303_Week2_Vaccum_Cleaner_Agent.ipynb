{
  "nbformat": 4,
  "nbformat_minor": 0,
  "metadata": {
    "colab": {
      "provenance": [],
      "authorship_tag": "ABX9TyNBThhR2vH62uRX+3OveBmf",
      "include_colab_link": true
    },
    "kernelspec": {
      "name": "python3",
      "display_name": "Python 3"
    },
    "language_info": {
      "name": "python"
    }
  },
  "cells": [
    {
      "cell_type": "markdown",
      "metadata": {
        "id": "view-in-github",
        "colab_type": "text"
      },
      "source": [
        "<a href=\"https://colab.research.google.com/github/TanmayBj23/AI_LAB/blob/main/1BM22CS303_Week2_Vaccum_Cleaner_Agent.ipynb\" target=\"_parent\"><img src=\"https://colab.research.google.com/assets/colab-badge.svg\" alt=\"Open In Colab\"/></a>"
      ]
    },
    {
      "cell_type": "code",
      "execution_count": null,
      "metadata": {
        "colab": {
          "base_uri": "https://localhost:8080/"
        },
        "id": "LxvmHz8uL4l9",
        "outputId": "de6e1d31-b4f5-45e3-d68f-2fffea2836c7"
      },
      "outputs": [
        {
          "output_type": "stream",
          "name": "stdout",
          "text": [
            "Enter Location of Vacuum: A\n",
            "Enter status of A (0 for Clean, 1 for Dirty): 0\n",
            "Enter status of other room (0 for Clean, 1 for Dirty): 1\n",
            "Initial Location Condition: {'A': '0', 'B': '0'}\n",
            "Vacuum is placed in Location A\n",
            "Location A is already clean.\n",
            "Location B is Dirty.\n",
            "Moving RIGHT to Location B.\n",
            "COST for moving RIGHT: 1\n",
            "Cost for SUCK: 2\n",
            "Location B has been Cleaned.\n",
            "GOAL STATE: \n",
            "{'A': '0', 'B': '0'}\n",
            "Performance Measurement: 2\n"
          ]
        }
      ],
      "source": [
        "def vacuum_world():\n",
        "    goal_state = {'A': '0', 'B': '0'}\n",
        "    cost = 0\n",
        "    location_input = input(\"Enter Location of Vacuum: \")\n",
        "    status_input = input(\"Enter status of \" + location_input + \" (0 for Clean, 1 for Dirty): \")\n",
        "    status_input_complement = input(\"Enter status of other room (0 for Clean, 1 for Dirty): \")\n",
        "    print(\"Initial Location Condition: \" + str(goal_state))\n",
        "    if location_input == 'A':\n",
        "        print(\"Vacuum is placed in Location A\")\n",
        "        if status_input == '1':\n",
        "            print(\"Location A is Dirty.\")\n",
        "            goal_state['A'] = '0'\n",
        "            cost += 1\n",
        "            print(\"Cost for CLEANING A: \" + str(cost))\n",
        "            print(\"Location A has been Cleaned.\")\n",
        "            if status_input_complement == '1':\n",
        "                print(\"Location B is Dirty.\")\n",
        "                print(\"Moving right to Location B.\")\n",
        "                cost += 1\n",
        "                print(\"COST for moving RIGHT: \" + str(cost))\n",
        "                goal_state['B'] = '0'\n",
        "                cost += 1\n",
        "                print(\"COST for SUCK: \" + str(cost))\n",
        "                print(\"Location B has been Cleaned.\")\n",
        "            else:\n",
        "                print(\"No action: \" + str(cost))\n",
        "                print(\"Location B is already clean.\")\n",
        "        if status_input == '0':\n",
        "            print(\"Location A is already clean.\")\n",
        "            if status_input_complement == '1':\n",
        "                print(\"Location B is Dirty.\")\n",
        "                print(\"Moving RIGHT to Location B.\")\n",
        "                cost += 1\n",
        "                print(\"COST for moving RIGHT: \" + str(cost))\n",
        "                goal_state['B'] = '0'\n",
        "                cost += 1\n",
        "                print(\"Cost for SUCK: \" + str(cost))\n",
        "                print(\"Location B has been Cleaned.\")\n",
        "            else:\n",
        "                print(\"No action: \" + str(cost))\n",
        "                print(\"Location B is already clean.\")\n",
        "    else:\n",
        "        print(\"Vacuum is placed in Location B\")\n",
        "        if status_input == '1':\n",
        "            print(\"Location B is Dirty.\")\n",
        "            goal_state['B'] = '0'\n",
        "            cost += 1\n",
        "            print(\"COST for CLEANING: \" + str(cost))\n",
        "            print(\"Location B has been Cleaned.\")\n",
        "            if status_input_complement == '1':\n",
        "                print(\"Location A is Dirty.\")\n",
        "                print(\"Moving LEFT to Location A.\")\n",
        "                cost += 1\n",
        "                print(\"COST for moving LEFT: \" + str(cost))\n",
        "                goal_state['A'] = '0'\n",
        "                cost += 1\n",
        "                print(\"COST for SUCK: \" + str(cost))\n",
        "                print(\"Location A has been Cleaned.\")\n",
        "            else:\n",
        "                print(\"Location A is already clean.\")\n",
        "        if status_input == '0':\n",
        "            print(\"Location B is already clean.\")\n",
        "            if status_input_complement == '1':\n",
        "                print(\"Location A is Dirty.\")\n",
        "                print(\"Moving LEFT to Location A.\")\n",
        "                cost += 1\n",
        "                print(\"COST for moving LEFT: \" + str(cost))\n",
        "                goal_state['A'] = '0'\n",
        "                cost += 1\n",
        "                print(\"Cost for SUCK: \" + str(cost))\n",
        "                print(\"Location A has been Cleaned.\")\n",
        "            else:\n",
        "                print(\"No action: \" + str(cost))\n",
        "                print(\"Location A is already clean.\")\n",
        "    print(\"GOAL STATE: \")\n",
        "    print(goal_state)\n",
        "    print(\"Performance Measurement: \" + str(cost))\n",
        "\n",
        "vacuum_world()"
      ]
    }
  ]
}