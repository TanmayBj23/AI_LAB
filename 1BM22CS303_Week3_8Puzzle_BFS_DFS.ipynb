{
  "nbformat": 4,
  "nbformat_minor": 0,
  "metadata": {
    "colab": {
      "provenance": [],
      "authorship_tag": "ABX9TyM+FsmobvY7DJStC7Ics0s5",
      "include_colab_link": true
    },
    "kernelspec": {
      "name": "python3",
      "display_name": "Python 3"
    },
    "language_info": {
      "name": "python"
    }
  },
  "cells": [
    {
      "cell_type": "markdown",
      "metadata": {
        "id": "view-in-github",
        "colab_type": "text"
      },
      "source": [
        "<a href=\"https://colab.research.google.com/github/TanmayBj23/AI_LAB/blob/main/1BM22CS303_Week3_8Puzzle_BFS_DFS.ipynb\" target=\"_parent\"><img src=\"https://colab.research.google.com/assets/colab-badge.svg\" alt=\"Open In Colab\"/></a>"
      ]
    },
    {
      "cell_type": "code",
      "execution_count": null,
      "metadata": {
        "colab": {
          "base_uri": "https://localhost:8080/"
        },
        "id": "KfBBHHFJaFwY",
        "outputId": "1deb4b56-2497-432f-ca7f-e66d24b4be23"
      },
      "outputs": [
        {
          "output_type": "stream",
          "name": "stdout",
          "text": [
            "Solution found:\n",
            "[1, 2, 3]\n",
            "[4, 5, 6]\n",
            "[0, 7, 8]\n",
            "\n",
            "[1, 2, 3]\n",
            "[4, 5, 6]\n",
            "[7, 0, 8]\n",
            "\n",
            "[1, 2, 3]\n",
            "[4, 5, 6]\n",
            "[7, 8, 0]\n",
            "\n"
          ]
        }
      ],
      "source": [
        "#BFS Algorithm\n",
        "\n",
        "from collections import deque\n",
        "def solve_8puzzle_dfs(initial_state):\n",
        "  def find_blank(state):\n",
        "    for row in range(3):\n",
        "      for col in range(3):\n",
        "        if state[row][col] == 0:\n",
        "          return row, col\n",
        "  def get_neighbors(state):\n",
        "    row, col = find_blank(state)\n",
        "    neighbors = []\n",
        "    directions = [(-1, 0), (1, 0), (0, -1), (0, 1)] # Up, Down, Left, Right\n",
        "    for dr, dc in directions:\n",
        "      new_row, new_col = row + dr, col + dc\n",
        "      if 0 <= new_row < 3 and 0 <= new_col < 3:\n",
        "        new_state = [r[:] for r in state]\n",
        "        new_state[row][col], new_state[new_row][new_col] = new_state[new_row][new_col], new_state[row][col]\n",
        "        neighbors.append(new_state)\n",
        "    return neighbors\n",
        "\n",
        "\n",
        "  goal_state = [[1, 2, 3], [4, 5, 6], [7, 8, 0]]\n",
        "  stack = [(initial_state, [])]\n",
        "  visited = set()\n",
        "  while stack:\n",
        "    current_state, path = stack.pop()\n",
        "    state_tuple = tuple(map(tuple, current_state))\n",
        "    if state_tuple in visited:\n",
        "      continue\n",
        "    visited.add(state_tuple)\n",
        "    if current_state == goal_state:\n",
        "      return path + [current_state]\n",
        "    for neighbor in get_neighbors(current_state):\n",
        "      stack.append((neighbor, path + [current_state]))\n",
        "  return None\n",
        "\n",
        "\n",
        "initial_state = [[1, 2, 3], [4, 5, 6], [0, 7, 8]]\n",
        "solution = solve_8puzzle_dfs(initial_state)\n",
        "if solution:\n",
        "  print(\"Solution found:\")\n",
        "  for state in solution:\n",
        "    for row in state:\n",
        "      print(row)\n",
        "    print()\n",
        "else:\n",
        "  print(\"No solution found.\")"
      ]
    },
    {
      "cell_type": "code",
      "source": [
        "#DFS Algorithm\n",
        "\n",
        "from collections import deque\n",
        "def solve_8puzzle_dfs(initial_state):\n",
        "  def find_blank(state):\n",
        "    for row in range(3):\n",
        "      for col in range(3):\n",
        "        if state[row][col] == 0:\n",
        "          return row, col\n",
        "  def get_neighbors(state):\n",
        "    row, col = find_blank(state)\n",
        "    neighbors = []\n",
        "    directions = [(-1, 0), (1, 0), (0, -1), (0, 1)] # Up, Down, Left, Right\n",
        "    for dr, dc in directions:\n",
        "      new_row, new_col = row + dr, col + dc\n",
        "      if 0 <= new_row < 3 and 0 <= new_col < 3:\n",
        "          new_state = [r[:] for r in state]\n",
        "          new_state[row][col], new_state[new_row][new_col] = new_state[new_row][new_col], new_state[row][col]\n",
        "          neighbors.append(new_state)\n",
        "    return neighbors\n",
        "\n",
        "  goal_state = [[1, 2, 3], [4, 5, 6], [7, 8, 0]]\n",
        "  stack = [(initial_state, [])]\n",
        "  visited = set()\n",
        "  while stack:\n",
        "    current_state, path = stack.pop()\n",
        "    state_tuple = tuple(map(tuple, current_state))\n",
        "    if state_tuple in visited:\n",
        "      continue\n",
        "    visited.add(state_tuple)\n",
        "    if current_state == goal_state:\n",
        "      return path + [current_state]\n",
        "    for neighbor in get_neighbors(current_state):\n",
        "        stack.append((neighbor, path + [current_state]))\n",
        "  return None\n",
        "\n",
        "initial_state = [[1, 2, 3], [4, 5, 6], [0, 7, 8]]\n",
        "solution = solve_8puzzle_dfs(initial_state)\n",
        "if solution:\n",
        "  print(\"Solution found:\")\n",
        "  for state in solution:\n",
        "    for row in state:\n",
        "      print(row)\n",
        "    print()\n",
        "else:\n",
        "  print(\"No solution found.\")"
      ],
      "metadata": {
        "colab": {
          "base_uri": "https://localhost:8080/"
        },
        "id": "gp3rWrJOabiA",
        "outputId": "f7e469c9-89e8-4b65-9a63-e4077f1070e7"
      },
      "execution_count": null,
      "outputs": [
        {
          "output_type": "stream",
          "name": "stdout",
          "text": [
            "Solution found:\n",
            "[1, 2, 3]\n",
            "[4, 5, 6]\n",
            "[0, 7, 8]\n",
            "\n",
            "[1, 2, 3]\n",
            "[4, 5, 6]\n",
            "[7, 0, 8]\n",
            "\n",
            "[1, 2, 3]\n",
            "[4, 5, 6]\n",
            "[7, 8, 0]\n",
            "\n"
          ]
        }
      ]
    },
    {
      "cell_type": "code",
      "source": [],
      "metadata": {
        "id": "BgQjdVL0dzAh"
      },
      "execution_count": null,
      "outputs": []
    }
  ]
}