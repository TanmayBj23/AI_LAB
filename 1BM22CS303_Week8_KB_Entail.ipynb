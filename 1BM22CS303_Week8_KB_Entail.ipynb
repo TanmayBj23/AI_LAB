{
  "nbformat": 4,
  "nbformat_minor": 0,
  "metadata": {
    "colab": {
      "provenance": [],
      "authorship_tag": "ABX9TyNLCk0Z4tUVkMH4XM3WfK8J",
      "include_colab_link": true
    },
    "kernelspec": {
      "name": "python3",
      "display_name": "Python 3"
    },
    "language_info": {
      "name": "python"
    }
  },
  "cells": [
    {
      "cell_type": "markdown",
      "metadata": {
        "id": "view-in-github",
        "colab_type": "text"
      },
      "source": [
        "<a href=\"https://colab.research.google.com/github/TanmayBj23/AI_LAB/blob/main/1BM22CS303_Week8_KB_Entail.ipynb\" target=\"_parent\"><img src=\"https://colab.research.google.com/assets/colab-badge.svg\" alt=\"Open In Colab\"/></a>"
      ]
    },
    {
      "cell_type": "code",
      "execution_count": 1,
      "metadata": {
        "colab": {
          "base_uri": "https://localhost:8080/"
        },
        "id": "vXlnKn5DPY5g",
        "outputId": "be7db9d7-6960-47f2-f326-7bb2a3ad311d"
      },
      "outputs": [
        {
          "output_type": "stream",
          "name": "stdout",
          "text": [
            "The query 'Criminal(Robert)' is entailed by the knowledge base.\n"
          ]
        }
      ],
      "source": [
        "class KnowledgeBase:\n",
        "    def __init__(self):\n",
        "        self.facts = set()\n",
        "        self.rules = []\n",
        "\n",
        "    def add_fact(self, fact):\n",
        "        self.facts.add(fact)\n",
        "\n",
        "    def add_rule(self, rule):\n",
        "        self.rules.append(rule)\n",
        "\n",
        "    def entails(self, query):\n",
        "        inferred = set()\n",
        "        new_facts = True\n",
        "\n",
        "        while new_facts:\n",
        "            new_facts = False\n",
        "            for rule in self.rules:\n",
        "                for fact in self.facts:\n",
        "                    inferred_fact = rule(fact, self.facts)\n",
        "                    if inferred_fact and inferred_fact not in self.facts and inferred_fact not in inferred:\n",
        "                        inferred.add(inferred_fact)\n",
        "                        new_facts = True\n",
        "\n",
        "        return query in inferred\n",
        "\n",
        "# Define propositional logic rules\n",
        "def rule_crime_law(fact, facts):\n",
        "    if fact == \"American(Robert)\" and \"Sells(Robert, Weapons, CountryA)\" in facts and \"Hostile(CountryA)\" in facts:\n",
        "        return \"Criminal(Robert)\"\n",
        "    return None\n",
        "\n",
        "# Initialize the knowledge base\n",
        "kb = KnowledgeBase()\n",
        "\n",
        "# Add facts to the knowledge base\n",
        "kb.add_fact(\"American(Robert)\")\n",
        "kb.add_fact(\"Sells(Robert, Weapons, CountryA)\")\n",
        "kb.add_fact(\"Hostile(CountryA)\")\n",
        "\n",
        "# Add rules to the knowledge base\n",
        "kb.add_rule(rule_crime_law)\n",
        "\n",
        "# Define the query\n",
        "query = \"Criminal(Robert)\"\n",
        "\n",
        "# Check if the query is entailed\n",
        "if kb.entails(query):\n",
        "    print(f\"The query '{query}' is entailed by the knowledge base.\")\n",
        "else:\n",
        "    print(f\"The query '{query}' is NOT entailed by the knowledge base.\")\n"
      ]
    },
    {
      "cell_type": "code",
      "source": [],
      "metadata": {
        "id": "l_xkaliFPo1Z"
      },
      "execution_count": null,
      "outputs": []
    }
  ]
}